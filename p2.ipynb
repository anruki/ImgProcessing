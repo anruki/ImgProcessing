{
  "cells": [
    {
      "cell_type": "markdown",
      "metadata": {
        "id": "view-in-github",
        "colab_type": "text"
      },
      "source": [
        "<a href=\"https://colab.research.google.com/github/anruki/ImgProcessing/blob/main/p2.ipynb\" target=\"_parent\"><img src=\"https://colab.research.google.com/assets/colab-badge.svg\" alt=\"Open In Colab\"/></a>"
      ]
    },
    {
      "cell_type": "markdown",
      "source": [
        "# **PRÁCTICA 2**\n",
        "---\n",
        "## 🎥**Asignatura:** Procesamiento Multimedia\n",
        "## 🍀**Curso:** 4ºB\n",
        "## 🤓 **Alumna:** Ana Robledano Abasolo\n",
        "---\n",
        "\n"
      ],
      "metadata": {
        "id": "Vmjq0FsuWad9"
      }
    },
    {
      "cell_type": "code",
      "source": [
        "import numpy as np\n",
        "import matplotlib.pyplot as plt\n",
        "import random"
      ],
      "metadata": {
        "id": "dDVRkb9ulc6K"
      },
      "execution_count": null,
      "outputs": []
    },
    {
      "cell_type": "code",
      "source": [
        "!pip install opencv-python\n",
        "!pip install opencv_jupyter_ui\n",
        "!pip install -q ipycanvas==0.11\n",
        "from google.colab import output\n",
        "output.enable_custom_widget_manager()\n",
        "\n",
        "import cv2\n",
        "from google.colab.patches import cv2_imshow\n",
        "import opencv_jupyter_ui as jcv2\n",
        "\n",
        "\n",
        "class EuclideanDistTracker:\n",
        "    def __init__(self):\n",
        "        self.center_points = {}\n",
        "        self.id_count = 0\n",
        "\n",
        "    def update(self, objects_rect):\n",
        "        objects_bbs_ids = []\n",
        "        for rect in objects_rect:\n",
        "            x, y, w, h = rect\n",
        "            cx = (x + x + w) // 2\n",
        "            cy = (y + y + h) // 2\n",
        "            same_object_detected = False\n",
        "            for id, pt in self.center_points.items():\n",
        "                dist = math.hypot(cx - pt[0], cy - pt[1])\n",
        "                if dist < 25:\n",
        "                    self.center_points[id] = (cx, cy)\n",
        "                    objects_bbs_ids.append([x, y, w, h, id])\n",
        "                    same_object_detected = True\n",
        "                    break\n",
        "            if not same_object_detected:\n",
        "                self.center_points[self.id_count] = (cx, cy)\n",
        "                objects_bbs_ids.append([x, y, w, h, self.id_count])\n",
        "                self.id_count += 1\n",
        "\n",
        "        new_center_points = {}\n",
        "        for obj_bb_id in objects_bbs_ids:\n",
        "            _, _, _, _, object_id = obj_bb_id\n",
        "            center = self.center_points[object_id]\n",
        "            new_center_points[object_id] = center\n",
        "        self.center_points = new_center_points.copy()\n",
        "        return objects_bbs_ids\n",
        "\n",
        "tracker = EuclideanDistTracker()\n",
        "min_width = 10\n",
        "min_height = 10\n",
        "\n",
        "\n",
        "\n",
        "\n",
        "cap = cv2.VideoCapture(\"highway_traffic.mp4\")\n",
        "\n",
        "# Check if camera opened successfully\n",
        "if (cap.isOpened()== False):\n",
        "    print(\"Error opening video file\")\n",
        "\n",
        "# Create tracker object\n",
        "tracker = EuclideanDistTracker()\n",
        "\n",
        "backeraser=cv2.createBackgroundSubtractorMOG2()#(history=100, varThreshold=40);\n",
        "# Read until video is completed\n",
        "while(cap.isOpened()):\n",
        "\n",
        "# Capture frame-by-frame\n",
        "    ret, frame = cap.read()\n",
        "    if ret == True:\n",
        "   #Show the image with matplotlib\n",
        "        frame=cv2.resize(frame,(320,240));\n",
        "        mask=backeraser.apply(frame);\n",
        "        #plt.imshow(frame)\n",
        "        #plt.show()\n",
        "        # Extract Region of interest\n",
        "        #roi = frame[340: 720,500: 800]\n",
        "\n",
        "\n",
        "        _, mask = cv2.threshold(mask, 254, 255, cv2.THRESH_BINARY)\n",
        "        contours, _ = cv2.findContours(mask, cv2.RETR_TREE, cv2.CHAIN_APPROX_SIMPLE)\n",
        "        detections = []\n",
        "        for cnt in contours:\n",
        "          # Calculate area and remove small elements\n",
        "          area = cv2.contourArea(cnt)\n",
        "          if area > 100:\n",
        "              #cv2.drawContours(roi, [cnt], -1, (0, 255, 0), 2)\n",
        "              x, y, w, h = cv2.boundingRect(cnt)\n",
        "              detections.append([x, y, w, h])\n",
        "\n",
        "              # 2. Object Tracking\n",
        "          boxes_ids = tracker.update(detections)\n",
        "          for box_id in boxes_ids:\n",
        "            x, y, w, h, id = box_id\n",
        "            cv2.putText(frame, str(id), (x, y - 15), cv2.FONT_HERSHEY_PLAIN, 2, (255, 0, 0), 2)\n",
        "            cv2.rectangle(frame, (x, y), (x + w, y + h), (0, 255, 0), 3)\n",
        "\n",
        "\n",
        "\n",
        "\n",
        "\n",
        "\n",
        "\n",
        "\n",
        "        # Press Q on keyboard to exit\n",
        "\n",
        "        jcv2.imshow(\"Frame\",frame)\n",
        "    if jcv2.waitKey(25) & 0xFF == ord('q'):\n",
        "      break\n",
        "\n",
        "\n",
        "\n",
        "# When everything done, release\n",
        "# the video capture object\n",
        "cap.release()\n",
        "\n",
        "# Closes all the frames\n",
        "jcv2.destroyAllWindows()\n"
      ],
      "metadata": {
        "id": "2B1V5lOYi2Ec"
      },
      "execution_count": null,
      "outputs": []
    }
  ],
  "metadata": {
    "kernelspec": {
      "display_name": ".venv",
      "language": "python",
      "name": "python3"
    },
    "language_info": {
      "codemirror_mode": {
        "name": "ipython",
        "version": 3
      },
      "file_extension": ".py",
      "mimetype": "text/x-python",
      "name": "python",
      "nbconvert_exporter": "python",
      "pygments_lexer": "ipython3",
      "version": "3.11.9"
    },
    "colab": {
      "provenance": [],
      "include_colab_link": true
    }
  },
  "nbformat": 4,
  "nbformat_minor": 0
}